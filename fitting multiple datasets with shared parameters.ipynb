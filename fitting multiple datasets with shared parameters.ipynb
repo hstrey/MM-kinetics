{
 "cells": [
  {
   "cell_type": "code",
   "execution_count": 4,
   "metadata": {},
   "outputs": [],
   "source": [
    "%matplotlib inline\n",
    "import numpy as np\n",
    "import lmfit as lm\n",
    "import matplotlib.pyplot as plt"
   ]
  },
  {
   "cell_type": "code",
   "execution_count": 2,
   "metadata": {},
   "outputs": [],
   "source": [
    "# create some data\n",
    "n = 10\n",
    "x = np.linspace(-5,5,11)\n",
    "\n",
    "data = None\n",
    "\n",
    "slope = []\n",
    "# create n lines with intercepts 0.1\n",
    "for i in range(n):\n",
    "    slope.append(np.random.rand())\n",
    "    y = 0.1 + slope[-1]*x + np.random.normal(0,.5,11)\n",
    "    \n",
    "    if data is None:\n",
    "        data = y\n",
    "    else:\n",
    "        data = np.vstack((data,y))"
   ]
  },
  {
   "cell_type": "code",
   "execution_count": 5,
   "metadata": {},
   "outputs": [
    {
     "data": {
      "image/png": "[encoded data removed]",
      "text/plain": [
       "<Figure size 432x288 with 1 Axes>"
      ]
     },
     "metadata": {
      "needs_background": "light"
     },
     "output_type": "display_data"
    }
   ],
   "source": [
    "for y in data:\n",
    "    plt.plot(x,y,\"o\")"
   ]
  },
  {
   "cell_type": "code",
   "execution_count": 6,
   "metadata": {},
   "outputs": [],
   "source": [
    "linModel = lm.models.LinearModel()\n",
    "\n",
    "lin_slope = []\n",
    "lin_intercept = []\n",
    "\n",
    "for y in data:\n",
    "    pars = linModel.guess(y,x=x)\n",
    "    out = linModel.fit(y, pars, x=x)\n",
    "    #    print(out.fit_report(min_correl=0.25))\n",
    "    lin_slope.append(out.values['slope'])\n",
    "    lin_intercept.append(out.values['intercept'])"
   ]
  },
  {
   "cell_type": "code",
   "execution_count": 7,
   "metadata": {},
   "outputs": [
    {
     "name": "stdout",
     "output_type": "stream",
     "text": [
      "0.620924227563017 0.5895466138662002 0.29669656643955994\n",
      "0.8258897013322491 0.8788465183414554 0.031538399135191075\n",
      "0.667433012546893 0.6659627561913657 0.4435791218441798\n",
      "0.6046542882619796 0.6228308062430906 0.09011309069909007\n",
      "0.3950911096602875 0.46060659296615375 0.01632532238866048\n",
      "0.24201009742669155 0.17604765092689972 -0.045618842512293804\n",
      "0.17204638619916046 0.25473551893942603 0.16760685007368714\n",
      "0.7249998313411706 0.7608053746571889 0.03481576769556815\n",
      "0.6355437096947216 0.5394254290104457 0.3896076036975852\n",
      "0.7755687346370189 0.6895570146365316 -0.02275191478667994\n"
     ]
    }
   ],
   "source": [
    "# the fit is ok on an individual basis but it misses the point that the intercept is the same for all datasets\n",
    "for i in range(n):\n",
    "    print(slope[i],lin_slope[i],lin_intercept[i])"
   ]
  },
  {
   "cell_type": "code",
   "execution_count": 9,
   "metadata": {},
   "outputs": [
    {
     "data": {
      "text/plain": [
       "10"
      ]
     },
     "execution_count": 9,
     "metadata": {},
     "output_type": "execute_result"
    }
   ],
   "source": [
    "data.shape[0]"
   ]
  },
  {
   "cell_type": "code",
   "execution_count": 21,
   "metadata": {},
   "outputs": [],
   "source": [
    "def multiple_lines(parms,x,data=None,sigma=None):\n",
    "    intercept = parms['intercept']\n",
    "    model = None\n",
    "    if data is not None:\n",
    "        for i in range(data.shape[0]):\n",
    "            slope = params['slope'+str(i)]\n",
    "            y = intercept + slope*x\n",
    "            if model is None:\n",
    "                model = y\n",
    "            else:\n",
    "                model = np.vstack((model,y))\n",
    "        if sigma is None:\n",
    "            return model-data\n",
    "        else:\n",
    "            return (model-data)/sigma"
   ]
  },
  {
   "cell_type": "code",
   "execution_count": 23,
   "metadata": {},
   "outputs": [
    {
     "name": "stdout",
     "output_type": "stream",
     "text": [
      "Name          Value      Min      Max   Stderr     Vary     Expr Brute_Step\n",
      "intercept    0.1402     -inf      inf     None     True     None     None\n",
      "slope0       0.6209     -inf      inf     None     True     None     None\n",
      "slope1       0.8259     -inf      inf     None     True     None     None\n",
      "slope2       0.6674     -inf      inf     None     True     None     None\n",
      "slope3       0.6047     -inf      inf     None     True     None     None\n",
      "slope4       0.3951     -inf      inf     None     True     None     None\n",
      "slope5        0.242     -inf      inf     None     True     None     None\n",
      "slope6        0.172     -inf      inf     None     True     None     None\n",
      "slope7        0.725     -inf      inf     None     True     None     None\n",
      "slope8       0.6355     -inf      inf     None     True     None     None\n",
      "slope9       0.7756     -inf      inf     None     True     None     None\n"
     ]
    }
   ],
   "source": [
    "params = lm.Parameters()\n",
    "params.add('intercept',value=0,vary=True)\n",
    "for i,s in enumerate(slope):\n",
    "    params.add('slope'+str(i),value=s,vary=True)\n",
    "    \n",
    "out = lm.minimize(multiple_lines, params, args=(x,data),nan_policy='omit')\n",
    "out.params.pretty_print()\n"
   ]
  },
  {
   "cell_type": "code",
   "execution_count": null,
   "metadata": {},
   "outputs": [],
   "source": []
  }
 ],
 "metadata": {
  "kernelspec": {
   "display_name": "Python 3",
   "language": "python",
   "name": "python3"
  },
  "language_info": {
   "codemirror_mode": {
    "name": "ipython",
    "version": 3
   },
   "file_extension": ".py",
   "mimetype": "text/x-python",
   "name": "python",
   "nbconvert_exporter": "python",
   "pygments_lexer": "ipython3",
   "version": "3.7.0"
  }
 },
 "nbformat": 4,
 "nbformat_minor": 2
}
