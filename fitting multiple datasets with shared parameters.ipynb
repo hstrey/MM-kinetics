{
 "cells": [
  {
   "cell_type": "code",
   "execution_count": 4,
   "metadata": {},
   "outputs": [],
   "source": [
    "%matplotlib inline\n",
    "import numpy as np\n",
    "import lmfit as lm"
   ]
  },
  {
   "cell_type": "code",
   "execution_count": 18,
   "metadata": {},
   "outputs": [],
   "source": [
    "# create some data\n",
    "n = 10\n",
    "x = np.linspace(-5,5,11)\n",
    "\n",
    "data = None\n",
    "\n",
    "slope = []\n",
    "# create n lines with intercepts 0.1\n",
    "for i in range(n):\n",
    "    slope.append(np.random.rand())\n",
    "    y = 0.1 + slope[-1]*x + np.random.normal(0,.5,11)\n",
    "    \n",
    "    if data is None:\n",
    "        data = y\n",
    "    else:\n",
    "        data = np.vstack((data,y))"
   ]
  },
  {
   "cell_type": "code",
   "execution_count": 19,
   "metadata": {},
   "outputs": [
    {
     "data": {
      "image/png": "[encoded data removed]",
      "text/plain": [
       "<Figure size 432x288 with 1 Axes>"
      ]
     },
     "metadata": {
      "needs_background": "light"
     },
     "output_type": "display_data"
    }
   ],
   "source": [
    "for y in data:\n",
    "    plt.plot(x,y,\"o\")"
   ]
  },
  {
   "cell_type": "code",
   "execution_count": 25,
   "metadata": {},
   "outputs": [],
   "source": [
    "linModel = lm.models.LinearModel()\n",
    "\n",
    "lin_slope = []\n",
    "lin_intercept = []\n",
    "\n",
    "for y in data:\n",
    "    pars = linModel.guess(y,x=x)\n",
    "    out = linModel.fit(y, pars, x=x)\n",
    "    #    print(out.fit_report(min_correl=0.25))\n",
    "    lin_slope.append(out.values['slope'])\n",
    "    lin_intercept.append(out.values['intercept'])"
   ]
  },
  {
   "cell_type": "code",
   "execution_count": 24,
   "metadata": {},
   "outputs": [
    {
     "name": "stdout",
     "output_type": "stream",
     "text": [
      "0.8931755885091196 0.8566033136072398 0.07947830998288495\n",
      "0.969581369344688 0.9056448360037223 0.07569393290931112\n",
      "0.7271482349829246 0.6993560363029221 -0.007639412129325052\n",
      "0.7563306743213364 0.800530058232872 0.34137506695263903\n",
      "0.3269000708630523 0.3583478711210516 -0.15170027462943453\n",
      "0.8235518062260305 0.8016767944756468 0.40544901150655066\n",
      "0.704559760579722 0.7331633135752517 0.28105537134668546\n",
      "0.10495368663836413 0.1527140999522032 0.05179731310559229\n",
      "0.6317215338962531 0.6125995525739558 0.13544016681440363\n",
      "0.9497736894985666 0.9448411862888837 0.16082746750076352\n"
     ]
    }
   ],
   "source": [
    "# the fit is ok on an individual basis but it misses the point that the intercept is the same for all datasets\n",
    "for i in range(n):\n",
    "    print(slope[i],lin_slope[i],lin_intercept[i])"
   ]
  },
  {
   "cell_type": "code",
   "execution_count": null,
   "metadata": {},
   "outputs": [],
   "source": []
  }
 ],
 "metadata": {
  "kernelspec": {
   "display_name": "Python 3",
   "language": "python",
   "name": "python3"
  },
  "language_info": {
   "codemirror_mode": {
    "name": "ipython",
    "version": 3
   },
   "file_extension": ".py",
   "mimetype": "text/x-python",
   "name": "python",
   "nbconvert_exporter": "python",
   "pygments_lexer": "ipython3",
   "version": "3.6.6"
  }
 },
 "nbformat": 4,
 "nbformat_minor": 2
}
